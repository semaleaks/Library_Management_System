{
 "cells": [
  {
   "cell_type": "code",
   "execution_count": null,
   "id": "85814e09",
   "metadata": {},
   "outputs": [],
   "source": [
    "class Library:\n",
    " \n",
    "    def __init__(self):\n",
    "        self.file=open(\"books.txt\",\"a+\")\n",
    "    def __del__(self):\n",
    "        self.file.close()\n",
    "    def kitaplistesi(self):\n",
    "        self.file.seek(0)\n",
    "        books=self.file.readlines()\n",
    "        for kitap in books:\n",
    "            kitap_detay= kitap.strip().split(\", \")\n",
    "            print(f\"Kitap: {kitap_detay[0]}, Yazar: {kitap_detay[1]}, Yayın Tarihi: {kitap_detay[2]}, Yayınevi: {kitap_detay[3]}, Sayfa Sayısı: {kitap_detay[4]}\")\n",
    "    def add_list(self):\n",
    "        kitapadi=input(\"Kitap Adı: \")\n",
    "        kitapyazar=input(\"Yazar: \")\n",
    "        kitapyayin=input(\"Yayın Tarihi: \")\n",
    "        kitapyayinevi=input(\"Yayınevi: \")\n",
    "        kitapsayfa=input(\"Sayfa Sayısı: \")\n",
    "        kitap_info = f\"{kitapadi}, {kitapyazar}, {kitapyayin}, {kitapyayinevi}, {kitapsayfa}\\n\"\n",
    "        self.file.write(kitap_info)\n",
    "    def remove_list(self):\n",
    "        kitapadi=input(\"Silinecek Kitabı Giriniz: \")\n",
    "        self.file.seek(0)\n",
    "        books = self.file.readlines()\n",
    "        update_ = []\n",
    "        for kitap in books:\n",
    "            if kitapadi in kitap:\n",
    "                update_.append(kitap)\n",
    "        self.file.seek(0)\n",
    "        self.file.truncate()\n",
    "        self.file.writelines(update_)\n",
    "lib = Library()\n",
    "while True:\n",
    "    try:\n",
    "        print(\n",
    "            \"\"\"MENÜ\n",
    "1)Kitap Ekle\n",
    "2)Kitap Sil\n",
    "3)Kitapları Listele\n",
    "q)Çıkış \"\"\")\n",
    "        secim=input(\"Seçiminizi Giriniz: \")\n",
    "        if secim == \"1\":\n",
    "            lib.add_list()\n",
    "        elif secim == \"2\":\n",
    "            lib.remove_list()\n",
    "        elif secim == \"3\":\n",
    "            lib.kitaplistesi()\n",
    "        elif secim == \"q\":\n",
    "            break\n",
    "        else:\n",
    "            raise ValueError(\"Geçersiz seçim. Lütfen 1, 2, 3 rakamlarından birini ya da q harfini giriniz!\")\n",
    "    except ValueError as e:\n",
    "            print(e)\n",
    "    else:\n",
    "            print(\"İşlem gerçekleşmiştir.\")\n",
    "                "
   ]
  },
  {
   "cell_type": "code",
   "execution_count": null,
   "id": "1cc09510",
   "metadata": {},
   "outputs": [],
   "source": []
  },
  {
   "cell_type": "code",
   "execution_count": null,
   "id": "f896b0cd",
   "metadata": {},
   "outputs": [],
   "source": []
  },
  {
   "cell_type": "code",
   "execution_count": null,
   "id": "ec590223",
   "metadata": {},
   "outputs": [],
   "source": []
  }
 ],
 "metadata": {
  "kernelspec": {
   "display_name": "Python 3 (ipykernel)",
   "language": "python",
   "name": "python3"
  },
  "language_info": {
   "codemirror_mode": {
    "name": "ipython",
    "version": 3
   },
   "file_extension": ".py",
   "mimetype": "text/x-python",
   "name": "python",
   "nbconvert_exporter": "python",
   "pygments_lexer": "ipython3",
   "version": "3.11.5"
  }
 },
 "nbformat": 4,
 "nbformat_minor": 5
}
